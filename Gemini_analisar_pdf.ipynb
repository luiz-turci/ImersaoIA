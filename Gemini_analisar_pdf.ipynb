{
  "nbformat": 4,
  "nbformat_minor": 0,
  "metadata": {
    "colab": {
      "provenance": [],
      "mount_file_id": "1h52piZkTgwOQ1u2DkX1r-rrPSaRwI0F6",
      "authorship_tag": "ABX9TyOuDQ/AthhTTeFIG9/5SOlH",
      "include_colab_link": true
    },
    "kernelspec": {
      "name": "python3",
      "display_name": "Python 3"
    },
    "language_info": {
      "name": "python"
    }
  },
  "cells": [
    {
      "cell_type": "markdown",
      "metadata": {
        "id": "view-in-github",
        "colab_type": "text"
      },
      "source": [
        "<a href=\"https://colab.research.google.com/github/luiz-turci/ImersaoIA/blob/main/Gemini_analisar_pdf.ipynb\" target=\"_parent\"><img src=\"https://colab.research.google.com/assets/colab-badge.svg\" alt=\"Open In Colab\"/></a>"
      ]
    },
    {
      "cell_type": "code",
      "source": [
        "!pip install -q PyPDF2\n",
        "!pip install -q -U google-generativeai\n",
        "\n",
        "from PyPDF2 import PdfReader\n",
        "import google.generativeai as genai\n",
        "\n",
        "# Carregar o arquivo PDF\n",
        "reader = PdfReader(\"teste.pdf\")\n",
        "\n",
        "# Extrair o texto de todas as páginas\n",
        "texto_completo = \"\"\n",
        "for page in range(len(reader.pages)):\n",
        "    page_obj = reader.pages[page]\n",
        "    texto_completo += page_obj.extract_text()\n",
        "\n",
        "# Enviar o texto para o Gemini e obter resposta\n",
        "#print(genai.GenerativeModel(texto_completo))\n",
        "\n",
        "# Exemplo de pergunta para o Gemini\n",
        "genai.configure(api_key=\"\")\n",
        "\n",
        "# Set up the model\n",
        "generation_config = {\n",
        "  \"temperature\": 1,\n",
        "  \"top_p\": 0.95,\n",
        "  \"top_k\": 0,\n",
        "  \"max_output_tokens\": 8192,\n",
        "}\n",
        "\n",
        "safety_settings = [\n",
        "  {\n",
        "    \"category\": \"HARM_CATEGORY_HARASSMENT\",\n",
        "    \"threshold\": \"BLOCK_MEDIUM_AND_ABOVE\"\n",
        "  },\n",
        "  {\n",
        "    \"category\": \"HARM_CATEGORY_HATE_SPEECH\",\n",
        "    \"threshold\": \"BLOCK_MEDIUM_AND_ABOVE\"\n",
        "  },\n",
        "  {\n",
        "    \"category\": \"HARM_CATEGORY_SEXUALLY_EXPLICIT\",\n",
        "    \"threshold\": \"BLOCK_MEDIUM_AND_ABOVE\"\n",
        "  },\n",
        "  {\n",
        "    \"category\": \"HARM_CATEGORY_DANGEROUS_CONTENT\",\n",
        "    \"threshold\": \"BLOCK_MEDIUM_AND_ABOVE\"\n",
        "  },\n",
        "]\n",
        "\n",
        "model = genai.GenerativeModel(model_name=\"gemini-1.5-pro-latest\",\n",
        "                              generation_config=generation_config,\n",
        "                              safety_settings=safety_settings)\n",
        "\n",
        "conversa = model.start_chat(history=[])\n",
        "pergunta = \"Na seção \\\"Artigos completos publicados em periódicos\\\", verifique quantas vezes aparece o texto \\\"2023\\\"?\"\n",
        "#response = model.generate_content(f\"{pergunta}\\n{texto_completo}\",stream=False)\n",
        "response = conversa.send_message(f\"{pergunta}\\n{texto_completo}\",stream=False)\n",
        "print(response.candidates[0].content.parts[0].text)\n",
        "\n",
        "pergunta = input(\"Se satisfeito, digite fim, senão forneça novo Prompt: \")\n",
        "while pergunta != 'fim':\n",
        "  response = conversa.send_message(pergunta)\n",
        "  print(response.text)\n",
        "  pergunta = input(\"Se satisfeito, digite fim, senão forneça novo Prompt: \")"
      ],
      "metadata": {
        "colab": {
          "base_uri": "https://localhost:8080/",
          "height": 143
        },
        "id": "VgJbpwrw9e04",
        "outputId": "3de43a20-5365-4220-a7f0-6d217edd7929"
      },
      "execution_count": null,
      "outputs": [
        {
          "output_type": "stream",
          "name": "stdout",
          "text": [
            "Na seção \"Artigos completos publicados em periódicos\", o texto \"2023\" aparece **2 vezes**. \n",
            "\n",
            "Se satisfeito, digite fim, senão forneça novo Prompt: Forneça apenas o resultado numérico\n",
            "2 \n",
            "\n"
          ]
        }
      ]
    }
  ]
}